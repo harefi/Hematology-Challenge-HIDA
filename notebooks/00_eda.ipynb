{
 "cells": [
  {
   "cell_type": "markdown",
   "id": "0",
   "metadata": {},
   "source": [
    "# 00 – Exploratory Data Analysis (EDA)\n",
    "*Helmholtz HIDA Hematology Image Classification*\n",
    "\n",
    "**Goal:** quick sanity‑check of the labelled dataset: class balance, image shapes, sample visuals."
   ]
  },
  {
   "cell_type": "code",
   "execution_count": null,
   "id": "1",
   "metadata": {},
   "outputs": [],
   "source": [
    "\n",
    "# Basic imports\n",
    "import sys, random\n",
    "from pathlib import Path\n",
    "import matplotlib.pyplot as plt\n",
    "import torch\n",
    "import torchvision\n",
    "\n",
    "# make project code importable\n",
    "sys.path.append(str(Path.cwd().parent / \"src\"))\n",
    "from hematol.data import build_datasets\n"
   ]
  },
  {
   "cell_type": "code",
   "execution_count": null,
   "id": "2",
   "metadata": {},
   "outputs": [],
   "source": [
    "#from hematol.data import build_datasets\n",
    "DATA_ROOT = Path('../Source')  # adjust if you keep data elsewhere\n",
    "\n",
    "ds, class_to_idx, targets = build_datasets(DATA_ROOT)\n",
    "num_classes = len(class_to_idx)\n",
    "print(f\"Total images: {len(ds)}   |   Classes: {num_classes}\")\n",
    "print(class_to_idx)\n"
   ]
  },
  {
   "cell_type": "code",
   "execution_count": null,
   "id": "3",
   "metadata": {},
   "outputs": [],
   "source": [
    "\n",
    "import collections\n",
    "import numpy as np\n",
    "\n",
    "counts = collections.Counter(targets)\n",
    "labels = [cls for cls, _ in sorted(class_to_idx.items(), key=lambda kv: kv[1])]\n",
    "label_counts = [counts[i] for i in range(num_classes)]\n",
    "\n",
    "plt.figure(figsize=(10,4))\n",
    "plt.bar(labels, label_counts)\n",
    "plt.xticks(rotation=45, ha='right')\n",
    "plt.title('Class distribution')\n",
    "plt.ylabel('image count')\n",
    "plt.tight_layout()\n",
    "plt.show()\n"
   ]
  },
  {
   "cell_type": "code",
   "execution_count": null,
   "id": "4",
   "metadata": {},
   "outputs": [],
   "source": [
    "from hematol.transforms import val_tfms          # resize → center-crop → tensor\n",
    "from torchvision.utils import make_grid\n",
    "import matplotlib.pyplot as plt, random\n",
    "\n",
    "idxs = random.sample(range(len(ds)), 16)\n",
    "tensor_imgs = [val_tfms(ds[i][0]) for i in idxs]   # now every tensor is 3×224×224\n",
    "\n",
    "grid = make_grid(tensor_imgs, nrow=4, normalize=True, value_range=(0, 1))\n",
    "\n",
    "plt.figure(figsize=(8, 8))\n",
    "plt.imshow(grid.permute(1, 2, 0))\n",
    "plt.axis(\"off\")\n",
    "plt.title(\"Random samples (normalised display)\")\n",
    "plt.show()"
   ]
  },
  {
   "cell_type": "markdown",
   "id": "5",
   "metadata": {},
   "source": [
    "## Quick observations\n",
    "* The dataset is moderately imbalanced – some rare classes have <1k images.\n",
    "* Images come in varying resolutions; we resize to 256 before cropping 224×224 during training.\n",
    "* Colours look broadly similar across datasets (Macenko stain‑norm not critical for the baseline).\n",
    "\n",
    "> **Next steps:** weigh the loss or oversample minority classes; experiment with stain normalisation and self‑supervised pre‑training."
   ]
  },
  {
   "cell_type": "code",
   "execution_count": null,
   "id": "6",
   "metadata": {},
   "outputs": [],
   "source": []
  }
 ],
 "metadata": {
  "kernelspec": {
   "display_name": "Python 3 (ipykernel)",
   "language": "python",
   "name": "python3"
  },
  "language_info": {
   "codemirror_mode": {
    "name": "ipython",
    "version": 3
   },
   "file_extension": ".py",
   "mimetype": "text/x-python",
   "name": "python",
   "nbconvert_exporter": "python",
   "pygments_lexer": "ipython3",
   "version": "3.12.3"
  }
 },
 "nbformat": 4,
 "nbformat_minor": 5
}
